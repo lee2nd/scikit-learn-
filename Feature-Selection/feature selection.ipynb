{
 "cells": [
  {
   "cell_type": "markdown",
   "metadata": {},
   "source": [
    "資料來源：https://www.kaggle.com/competitions/house-prices-advanced-regression-techniques/overview "
   ]
  },
  {
   "cell_type": "markdown",
   "metadata": {
    "id": "XXPW4YBaeBXd",
    "jp-MarkdownHeadingCollapsed": true,
    "tags": []
   },
   "source": [
    "# Import packages"
   ]
  },
  {
   "cell_type": "code",
   "execution_count": 1,
   "metadata": {
    "id": "3URhVBkpeBXd"
   },
   "outputs": [],
   "source": [
    "import numpy as np\n",
    "import pandas as pd\n",
    "\n",
    "from sklearn.preprocessing import StandardScaler, OneHotEncoder\n",
    "from sklearn.model_selection import train_test_split\n",
    "from sklearn.impute import KNNImputer\n",
    "\n",
    "from xgboost import XGBRegressor\n",
    "\n",
    "import warnings\n",
    "warnings.filterwarnings(\"ignore\")"
   ]
  },
  {
   "cell_type": "code",
   "execution_count": 2,
   "metadata": {
    "colab": {
     "base_uri": "https://localhost:8080/"
    },
    "id": "YRJixCI-eBXe",
    "outputId": "eb4df538-3001-41e9-e8d5-1a30d24676bd"
   },
   "outputs": [
    {
     "name": "stdout",
     "output_type": "stream",
     "text": [
      "<class 'pandas.core.frame.DataFrame'>\n",
      "RangeIndex: 1460 entries, 0 to 1459\n",
      "Data columns (total 81 columns):\n",
      " #   Column         Non-Null Count  Dtype  \n",
      "---  ------         --------------  -----  \n",
      " 0   Id             1460 non-null   int64  \n",
      " 1   MSSubClass     1460 non-null   int64  \n",
      " 2   MSZoning       1460 non-null   object \n",
      " 3   LotFrontage    1201 non-null   float64\n",
      " 4   LotArea        1460 non-null   int64  \n",
      " 5   Street         1460 non-null   object \n",
      " 6   Alley          91 non-null     object \n",
      " 7   LotShape       1460 non-null   object \n",
      " 8   LandContour    1460 non-null   object \n",
      " 9   Utilities      1460 non-null   object \n",
      " 10  LotConfig      1460 non-null   object \n",
      " 11  LandSlope      1460 non-null   object \n",
      " 12  Neighborhood   1460 non-null   object \n",
      " 13  Condition1     1460 non-null   object \n",
      " 14  Condition2     1460 non-null   object \n",
      " 15  BldgType       1460 non-null   object \n",
      " 16  HouseStyle     1460 non-null   object \n",
      " 17  OverallQual    1460 non-null   int64  \n",
      " 18  OverallCond    1460 non-null   int64  \n",
      " 19  YearBuilt      1460 non-null   int64  \n",
      " 20  YearRemodAdd   1460 non-null   int64  \n",
      " 21  RoofStyle      1460 non-null   object \n",
      " 22  RoofMatl       1460 non-null   object \n",
      " 23  Exterior1st    1460 non-null   object \n",
      " 24  Exterior2nd    1460 non-null   object \n",
      " 25  MasVnrType     1452 non-null   object \n",
      " 26  MasVnrArea     1452 non-null   float64\n",
      " 27  ExterQual      1460 non-null   object \n",
      " 28  ExterCond      1460 non-null   object \n",
      " 29  Foundation     1460 non-null   object \n",
      " 30  BsmtQual       1423 non-null   object \n",
      " 31  BsmtCond       1423 non-null   object \n",
      " 32  BsmtExposure   1422 non-null   object \n",
      " 33  BsmtFinType1   1423 non-null   object \n",
      " 34  BsmtFinSF1     1460 non-null   int64  \n",
      " 35  BsmtFinType2   1422 non-null   object \n",
      " 36  BsmtFinSF2     1460 non-null   int64  \n",
      " 37  BsmtUnfSF      1460 non-null   int64  \n",
      " 38  TotalBsmtSF    1460 non-null   int64  \n",
      " 39  Heating        1460 non-null   object \n",
      " 40  HeatingQC      1460 non-null   object \n",
      " 41  CentralAir     1460 non-null   object \n",
      " 42  Electrical     1459 non-null   object \n",
      " 43  1stFlrSF       1460 non-null   int64  \n",
      " 44  2ndFlrSF       1460 non-null   int64  \n",
      " 45  LowQualFinSF   1460 non-null   int64  \n",
      " 46  GrLivArea      1460 non-null   int64  \n",
      " 47  BsmtFullBath   1460 non-null   int64  \n",
      " 48  BsmtHalfBath   1460 non-null   int64  \n",
      " 49  FullBath       1460 non-null   int64  \n",
      " 50  HalfBath       1460 non-null   int64  \n",
      " 51  BedroomAbvGr   1460 non-null   int64  \n",
      " 52  KitchenAbvGr   1460 non-null   int64  \n",
      " 53  KitchenQual    1460 non-null   object \n",
      " 54  TotRmsAbvGrd   1460 non-null   int64  \n",
      " 55  Functional     1460 non-null   object \n",
      " 56  Fireplaces     1460 non-null   int64  \n",
      " 57  FireplaceQu    770 non-null    object \n",
      " 58  GarageType     1379 non-null   object \n",
      " 59  GarageYrBlt    1379 non-null   float64\n",
      " 60  GarageFinish   1379 non-null   object \n",
      " 61  GarageCars     1460 non-null   int64  \n",
      " 62  GarageArea     1460 non-null   int64  \n",
      " 63  GarageQual     1379 non-null   object \n",
      " 64  GarageCond     1379 non-null   object \n",
      " 65  PavedDrive     1460 non-null   object \n",
      " 66  WoodDeckSF     1460 non-null   int64  \n",
      " 67  OpenPorchSF    1460 non-null   int64  \n",
      " 68  EnclosedPorch  1460 non-null   int64  \n",
      " 69  3SsnPorch      1460 non-null   int64  \n",
      " 70  ScreenPorch    1460 non-null   int64  \n",
      " 71  PoolArea       1460 non-null   int64  \n",
      " 72  PoolQC         7 non-null      object \n",
      " 73  Fence          281 non-null    object \n",
      " 74  MiscFeature    54 non-null     object \n",
      " 75  MiscVal        1460 non-null   int64  \n",
      " 76  MoSold         1460 non-null   int64  \n",
      " 77  YrSold         1460 non-null   int64  \n",
      " 78  SaleType       1460 non-null   object \n",
      " 79  SaleCondition  1460 non-null   object \n",
      " 80  SalePrice      1460 non-null   int64  \n",
      "dtypes: float64(3), int64(35), object(43)\n",
      "memory usage: 924.0+ KB\n"
     ]
    }
   ],
   "source": [
    "raw_data = pd.read_csv(\"train.csv\")\n",
    "raw_data.info()"
   ]
  },
  {
   "cell_type": "code",
   "execution_count": null,
   "metadata": {
    "id": "fHNR-DH2eBXf"
   },
   "outputs": [],
   "source": [
    "# 把遺失值過多的欄位排除掉\n",
    "raw_data = raw_data.dropna(axis = 1, thresh = int(round(raw_data.shape[0]*0.5)) )"
   ]
  },
  {
   "cell_type": "code",
   "execution_count": null,
   "metadata": {
    "id": "hhUeFFmbeBXf"
   },
   "outputs": [],
   "source": [
    "# Define Features and Target\n",
    "PK = \"Id\"\n",
    "target = \"SalePrice\"\n",
    "numerical_features = [i for i in raw_data.columns if i not in [PK, target] and raw_data[i].dtype != \"object\"]\n",
    "classical_features = [i for i in raw_data.columns if i not in [PK, target] and raw_data[i].dtype == \"object\"]"
   ]
  },
  {
   "cell_type": "code",
   "execution_count": null,
   "metadata": {
    "id": "odR-Ew9DeBXg"
   },
   "outputs": [],
   "source": [
    "# 切割成訓練、驗證與測試資料\n",
    "xtrain, xtest, ytrain, ytest = train_test_split(raw_data[numerical_features+classical_features], raw_data[target], test_size = 0.2)"
   ]
  },
  {
   "cell_type": "code",
   "execution_count": null,
   "metadata": {
    "colab": {
     "base_uri": "https://localhost:8080/"
    },
    "id": "xVMNu2kneBXg",
    "outputId": "19b3ce59-758c-476f-cf1d-aa6b0bfcb120"
   },
   "outputs": [],
   "source": [
    "print(xtrain.shape, xtest.shape, ytrain.shape, ytest.shape)"
   ]
  },
  {
   "cell_type": "code",
   "execution_count": null,
   "metadata": {
    "id": "Lo34tRQdeBXh"
   },
   "outputs": [],
   "source": [
    "def generate_one_hot_encoding_features(one_train_Series,\n",
    "                                       one_test_Series):\n",
    "    \n",
    "    # 產生 One-Hot Encoding Object\n",
    "    oneHotEncoding = OneHotEncoder(handle_unknown = \"ignore\")\n",
    "\n",
    "    # 用訓練資料配適 One-Hot Encoding\n",
    "    oneHotEncoding = oneHotEncoding.fit(one_train_Series.values.reshape((-1, 1)))\n",
    "\n",
    "    # 產生 One-Hot Encoding 的資料型態\n",
    "    oneHot_train_data = pd.DataFrame(oneHotEncoding.transform(one_train_Series.values.reshape((-1, 1))).toarray(), columns = oneHotEncoding.categories_[0].tolist() )\n",
    "    oneHot_test_data = pd.DataFrame(oneHotEncoding.transform(one_test_Series.values.reshape((-1, 1))).toarray(), columns = oneHotEncoding.categories_[0].tolist() )\n",
    "\n",
    "    return oneHot_train_data, oneHot_test_data"
   ]
  },
  {
   "cell_type": "code",
   "execution_count": null,
   "metadata": {
    "id": "ZaF4krrIeBXh"
   },
   "outputs": [],
   "source": [
    "# 把類別資料轉成 One-Hot Encoding\n",
    "OneHotEncoding_data = [generate_one_hot_encoding_features(one_train_Series = xtrain[one_column], one_test_Series = xtest[one_column]) for one_column in classical_features]\n",
    "\n",
    "# 建立 One-Hot Encoding 後的訓練資料\n",
    "preprocessed_xtrain = pd.concat([xtrain.reset_index(drop = True)] + [\n",
    "    data[0] for data in OneHotEncoding_data\n",
    "], axis = 1).drop(columns = classical_features)\n",
    "\n",
    "# 建立 One-Hot Encoding 後的測試資料\n",
    "preprocessed_xtest = pd.concat([xtest.reset_index(drop = True)]+[\n",
    "    data[1] for data in OneHotEncoding_data\n",
    "], axis = 1).drop(columns = classical_features)"
   ]
  },
  {
   "cell_type": "code",
   "execution_count": null,
   "metadata": {
    "colab": {
     "base_uri": "https://localhost:8080/"
    },
    "id": "ajzOC_5HeBXi",
    "outputId": "f8808517-5a44-4072-a3e2-cd7d21f1661d"
   },
   "outputs": [],
   "source": [
    "print(preprocessed_xtrain.shape, preprocessed_xtest.shape)"
   ]
  },
  {
   "cell_type": "code",
   "execution_count": null,
   "metadata": {
    "id": "LZ4d_cVceBXi"
   },
   "outputs": [],
   "source": [
    "# Imputation\n",
    "KNNimputation = KNNImputer(weights = \"distance\")\n",
    "\n",
    "# preprocessed_xtrain = KNNimputation.fit_transform(preprocessed_xtrain) # 輸出格式為 Array\n",
    "# preprocessed_xtest = KNNimputation.transform(preprocessed_xtest) # 輸出格式為 Array\n",
    "\n",
    "preprocessed_xtrain = pd.DataFrame(KNNimputation.fit_transform(preprocessed_xtrain), columns = preprocessed_xtrain.columns.tolist())\n",
    "preprocessed_xtest = pd.DataFrame(KNNimputation.fit_transform(preprocessed_xtest), columns = preprocessed_xtest.columns.tolist())"
   ]
  },
  {
   "cell_type": "markdown",
   "metadata": {
    "id": "X6JBFvGheBXj",
    "jp-MarkdownHeadingCollapsed": true,
    "tags": []
   },
   "source": [
    "# ANOVA"
   ]
  },
  {
   "cell_type": "code",
   "execution_count": null,
   "metadata": {
    "id": "CXYVNKireBXj"
   },
   "outputs": [],
   "source": [
    "from scipy.stats import f_oneway"
   ]
  },
  {
   "cell_type": "code",
   "execution_count": null,
   "metadata": {
    "id": "9vrEdCGweBXk"
   },
   "outputs": [],
   "source": [
    "one_class_column = classical_features[0]"
   ]
  },
  {
   "cell_type": "code",
   "execution_count": null,
   "metadata": {
    "colab": {
     "base_uri": "https://localhost:8080/"
    },
    "id": "wUUmuIe3Hw-3",
    "outputId": "ee56ec95-051c-49b8-a51a-f405a67ba303"
   },
   "outputs": [],
   "source": [
    "len(classical_features)"
   ]
  },
  {
   "cell_type": "code",
   "execution_count": null,
   "metadata": {
    "colab": {
     "base_uri": "https://localhost:8080/",
     "height": 36
    },
    "id": "jmzwxEp7FozW",
    "outputId": "43e37824-b0fb-42d8-b2b3-fa9421347dfe"
   },
   "outputs": [],
   "source": [
    "one_class_column"
   ]
  },
  {
   "cell_type": "code",
   "execution_count": null,
   "metadata": {
    "id": "wZnqJHT6FtBC"
   },
   "outputs": [],
   "source": [
    "unique_calss = raw_data[one_class_column].unique()"
   ]
  },
  {
   "cell_type": "code",
   "execution_count": null,
   "metadata": {
    "colab": {
     "base_uri": "https://localhost:8080/"
    },
    "id": "aND7SPQOFs36",
    "outputId": "c38ffb69-580d-424a-89f6-09be397ba71f"
   },
   "outputs": [],
   "source": [
    "unique_calss"
   ]
  },
  {
   "cell_type": "code",
   "execution_count": null,
   "metadata": {
    "id": "HULBtpYsGClL"
   },
   "outputs": [],
   "source": [
    "target1 = raw_data[raw_data[one_class_column] == unique_calss[0]][target]\n",
    "target2 = raw_data[raw_data[one_class_column] == unique_calss[1]][target]\n",
    "target3 = raw_data[raw_data[one_class_column] == unique_calss[2]][target]\n",
    "target4 = raw_data[raw_data[one_class_column] == unique_calss[3]][target]\n",
    "target5 = raw_data[raw_data[one_class_column] == unique_calss[4]][target]"
   ]
  },
  {
   "cell_type": "code",
   "execution_count": null,
   "metadata": {
    "colab": {
     "base_uri": "https://localhost:8080/"
    },
    "id": "Gt63zJ2FGCes",
    "outputId": "5233959c-5719-4728-b1bb-52288ea62b75"
   },
   "outputs": [],
   "source": [
    "f_oneway(target1,target2,target3,target4,target5)"
   ]
  },
  {
   "cell_type": "markdown",
   "metadata": {
    "id": "3iyv36iwG1dI"
   },
   "source": [
    "用 tuple 的方式"
   ]
  },
  {
   "cell_type": "code",
   "execution_count": null,
   "metadata": {
    "id": "R3IdyAoRGCT_"
   },
   "outputs": [],
   "source": [
    "target_one_class = (target1,target2,target3,target4,target5)"
   ]
  },
  {
   "cell_type": "code",
   "execution_count": null,
   "metadata": {
    "colab": {
     "base_uri": "https://localhost:8080/"
    },
    "id": "oS5MHALdFsqu",
    "outputId": "6d9a762a-c65c-47ea-aed3-7a21c96afc58"
   },
   "outputs": [],
   "source": [
    "f_oneway(*target_one_class)"
   ]
  },
  {
   "cell_type": "code",
   "execution_count": null,
   "metadata": {
    "id": "fB8_7CZ2eBXk"
   },
   "outputs": [],
   "source": [
    "# 判斷某個變數在類別變數之間是否有差異\n",
    "\n",
    "def identify_difference_from_anova(data, column_name, target_name):\n",
    "    \n",
    "    # ANOVA\n",
    "    f_statistics, f_pvalue = f_oneway(*tuple([data[data[column_name] == one_class][target_name] for one_class in data[column_name].unique()]) )\n",
    "    \n",
    "    if f_pvalue < 0.05:\n",
    "        return column_name\n",
    "    \n",
    "significant_column = [identify_difference_from_anova(data = raw_data, column_name = one_column_name, target_name = target) for one_column_name in classical_features]\n",
    "\n",
    "while None in significant_column:\n",
    "    significant_column.remove(None)"
   ]
  },
  {
   "cell_type": "markdown",
   "metadata": {
    "id": "kc4RdG1_eBXk",
    "jp-MarkdownHeadingCollapsed": true,
    "tags": []
   },
   "source": [
    "# Exhaustive Feature Selection\n",
    "評估指標參考連結：https://scikit-learn.org/stable/modules/model_evaluation.html#scoring-parameter "
   ]
  },
  {
   "cell_type": "code",
   "execution_count": null,
   "metadata": {
    "id": "8upfWPrDeBXk"
   },
   "outputs": [],
   "source": [
    "from mlxtend.feature_selection import ExhaustiveFeatureSelector"
   ]
  },
  {
   "cell_type": "code",
   "execution_count": null,
   "metadata": {
    "colab": {
     "base_uri": "https://localhost:8080/"
    },
    "id": "gSU6whbNeBXl",
    "outputId": "847af4a3-0a96-4469-a5fb-0b06e2b2fad5"
   },
   "outputs": [],
   "source": [
    "model = XGBRegressor()\n",
    "\n",
    "# 建立特徵挑選物件\n",
    "efs = ExhaustiveFeatureSelector(model,\n",
    "                 min_features = 10,              \n",
    "                 max_features = 11,\n",
    "                 scoring = 'neg_mean_squared_error',\n",
    "                 cv = 0)\n",
    "# 開始執行特徵挑選\n",
    "efs.fit(preprocessed_xtrain,ytrain)"
   ]
  },
  {
   "cell_type": "code",
   "execution_count": null,
   "metadata": {
    "id": "gRxvmCSWeBXl"
   },
   "outputs": [],
   "source": [
    "# 輸出最好的特徵組合\n",
    "print('Best accuracy score: %.2f' % efs1.best_score_)\n",
    "print('Best subset (indices):', efs1.best_idx_)\n",
    "print('Best subset (corresponding names):', efs1.best_feature_names_)"
   ]
  },
  {
   "cell_type": "markdown",
   "metadata": {
    "id": "rSQfKEf6eBXl",
    "jp-MarkdownHeadingCollapsed": true,
    "tags": []
   },
   "source": [
    "# Sequential Forward Selection"
   ]
  },
  {
   "cell_type": "markdown",
   "metadata": {
    "id": "ZGCnvGcCeBXm"
   },
   "source": [
    "程式碼參考連結：http://rasbt.github.io/mlxtend/user_guide/feature_selection/SequentialFeatureSelector/#overview    \n",
    "評估指標參考連結：https://scikit-learn.org/stable/modules/model_evaluation.html#scoring-parameter "
   ]
  },
  {
   "cell_type": "code",
   "execution_count": null,
   "metadata": {
    "id": "NfybjrCaeBXm"
   },
   "outputs": [],
   "source": [
    "# from sklearn.feature_selection import SequentialFeatureSelector\n",
    "from mlxtend.feature_selection import SequentialFeatureSelector"
   ]
  },
  {
   "cell_type": "code",
   "execution_count": null,
   "metadata": {
    "id": "mwnuSr2TeBXm",
    "outputId": "6d9bc8f2-5088-4448-95b3-241b0be14ec5"
   },
   "outputs": [],
   "source": [
    "model = XGBRegressor()\n",
    "\n",
    "# 建立特徵挑選物件\n",
    "sfs1 = SequentialFeatureSelector(model, \n",
    "           k_features=10, \n",
    "           forward=True, \n",
    "           floating=False, \n",
    "           cv=0)\n",
    "\n",
    "# 開始執行特徵挑選\n",
    "sfs1 = sfs1.fit(preprocessed_xtrain,ytrain)                            "
   ]
  },
  {
   "cell_type": "code",
   "execution_count": null,
   "metadata": {
    "id": "4HpFNYxCeBXn",
    "outputId": "afb74a06-afdd-4382-8c6f-f3a7b45a5bb3"
   },
   "outputs": [],
   "source": [
    "# 輸出每一輪特徵挑選狀況\n",
    "sfs1.subsets_"
   ]
  },
  {
   "cell_type": "code",
   "execution_count": null,
   "metadata": {
    "id": "f4NraxbxeBXn",
    "outputId": "02dbcfda-22f2-4f23-eaad-179234078025"
   },
   "outputs": [],
   "source": [
    "# 輸出被選入的特徵\n",
    "sfs1.k_feature_names_"
   ]
  },
  {
   "cell_type": "markdown",
   "metadata": {
    "id": "3kpfGnfZeBXo",
    "jp-MarkdownHeadingCollapsed": true,
    "tags": []
   },
   "source": [
    "# Sequential Backward Selection"
   ]
  },
  {
   "cell_type": "code",
   "execution_count": null,
   "metadata": {
    "id": "xpPg4Cx9eBXo"
   },
   "outputs": [],
   "source": [
    "# from sklearn.feature_selection import SequentialFeatureSelector\n",
    "from mlxtend.feature_selection import SequentialFeatureSelector"
   ]
  },
  {
   "cell_type": "code",
   "execution_count": null,
   "metadata": {
    "colab": {
     "base_uri": "https://localhost:8080/"
    },
    "id": "vi43_ol7eBXo",
    "outputId": "cca7179f-15e5-4970-b7e3-d86533b4c7e8"
   },
   "outputs": [],
   "source": [
    "model = XGBRegressor()\n",
    "\n",
    "# 建立特徵挑選物件\n",
    "bfs1 = SequentialFeatureSelector(model, \n",
    "           k_features=200, \n",
    "           forward=False, \n",
    "           floating=False, \n",
    "           cv=0)\n",
    "\n",
    "# 開始執行特徵挑選\n",
    "bfs1 = bfs1.fit(preprocessed_xtrain,ytrain)  "
   ]
  },
  {
   "cell_type": "code",
   "execution_count": null,
   "metadata": {
    "id": "TPUeC5RJg9Pe"
   },
   "outputs": [],
   "source": [
    "# 輸出特徵挑選過程\n",
    "bfs1.subsets_"
   ]
  },
  {
   "cell_type": "code",
   "execution_count": null,
   "metadata": {
    "id": "dn5zanUCeBXo"
   },
   "outputs": [],
   "source": [
    "# 輸出被選入的特徵\n",
    "bfs1.k_feature_names_"
   ]
  },
  {
   "cell_type": "markdown",
   "metadata": {
    "id": "U9SaX51xeBXo",
    "jp-MarkdownHeadingCollapsed": true,
    "tags": []
   },
   "source": [
    "# Sequential Floating Forward Selection"
   ]
  },
  {
   "cell_type": "code",
   "execution_count": null,
   "metadata": {
    "id": "yU7rB3TGeBXo"
   },
   "outputs": [],
   "source": [
    "from mlxtend.feature_selection import SequentialFeatureSelector"
   ]
  },
  {
   "cell_type": "code",
   "execution_count": null,
   "metadata": {
    "id": "tZetjaoheBXo"
   },
   "outputs": [],
   "source": [
    "model = XGBRegressor()\n",
    "\n",
    "# 建立特徵挑選物件\n",
    "sffs = SequentialFeatureSelector(estimator = model,\n",
    "                                 k_features = 50,\n",
    "                                 scoring = \"neg_mean_squared_error\",\n",
    "                                 cv = 0,\n",
    "                                 floating = True,\n",
    "                                 forward = True)\n",
    "\n",
    "# 開始執行特徵挑選\n",
    "sffs = sffs.fit(preprocessed_xtrain, ytrain)"
   ]
  },
  {
   "cell_type": "code",
   "execution_count": null,
   "metadata": {
    "id": "8wD3DAb6hrD8"
   },
   "outputs": [],
   "source": [
    "# 輸出特徵挑選過程\n",
    "sffs.subsets_"
   ]
  },
  {
   "cell_type": "code",
   "execution_count": null,
   "metadata": {
    "id": "0G6vBjEkeBXp"
   },
   "outputs": [],
   "source": [
    "# 輸出被選入的特徵\n",
    "sffs.k_feature_names_"
   ]
  },
  {
   "cell_type": "markdown",
   "metadata": {
    "id": "iQzFPKOdeBXp",
    "jp-MarkdownHeadingCollapsed": true,
    "tags": []
   },
   "source": [
    "# Sequential Floating Backward Selection"
   ]
  },
  {
   "cell_type": "code",
   "execution_count": null,
   "metadata": {
    "id": "V3mrsRxQeBXp"
   },
   "outputs": [],
   "source": [
    "from mlxtend.feature_selection import SequentialFeatureSelector"
   ]
  },
  {
   "cell_type": "code",
   "execution_count": null,
   "metadata": {
    "id": "w0PVLSSJeBXp"
   },
   "outputs": [],
   "source": [
    "model = XGBRegressor()\n",
    "\n",
    "# 建立特徵挑選物件\n",
    "sfbs = SequentialFeatureSelector(estimator = model,\n",
    "                                 k_features = 50,\n",
    "                                 scoring = \"neg_mean_squared_error\",\n",
    "                                 cv = 0,\n",
    "                                 floating = True,                                \n",
    "                                 forward = False)\n",
    "\n",
    "# 開始執行特徵挑選\n",
    "sfbs = sfbs.fit(preprocessed_xtrain, ytrain)"
   ]
  },
  {
   "cell_type": "code",
   "execution_count": null,
   "metadata": {},
   "outputs": [],
   "source": [
    "# 輸出特徵挑選過程\n",
    "sfbs.subsets_"
   ]
  },
  {
   "cell_type": "code",
   "execution_count": null,
   "metadata": {
    "id": "MOhtaUnneBXp"
   },
   "outputs": [],
   "source": [
    "# 輸出被挑選到的特徵\n",
    "sfbs.k_feature_names_"
   ]
  },
  {
   "cell_type": "markdown",
   "metadata": {
    "id": "HOJvTeVleBXp",
    "jp-MarkdownHeadingCollapsed": true,
    "tags": []
   },
   "source": [
    "# Recursive Feature Elimination"
   ]
  },
  {
   "cell_type": "code",
   "execution_count": null,
   "metadata": {
    "id": "UwkXXubyeBXp"
   },
   "outputs": [],
   "source": [
    "from sklearn.feature_selection import RFE"
   ]
  },
  {
   "cell_type": "code",
   "execution_count": null,
   "metadata": {
    "colab": {
     "base_uri": "https://localhost:8080/",
     "height": 236
    },
    "id": "EI-2U4qeeBXp",
    "outputId": "e44776ba-58d6-4125-f9ba-27cf0f498bb0"
   },
   "outputs": [],
   "source": [
    "model = XGBRegressor()\n",
    "\n",
    "# 建立 RFE 物件\n",
    "rfe = RFE(estimator = model,\n",
    "      n_features_to_select = 200,\n",
    "      step = 5)\n",
    "\n",
    "# 執行 RFE\n",
    "rfe.fit(preprocessed_xtrain, ytrain)"
   ]
  },
  {
   "cell_type": "code",
   "execution_count": null,
   "metadata": {
    "colab": {
     "base_uri": "https://localhost:8080/"
    },
    "id": "Cc891_iXeBXp",
    "outputId": "77c7bd7e-10e0-4b6a-e667-ba17a63aca66"
   },
   "outputs": [],
   "source": [
    "select_index = rfe.get_feature_names_out()\n",
    "select_index = [eval(i[1:]) for i in select_index]\n",
    "print(select_index)\n",
    "print(np.array(preprocessed_xtrain.columns)[select_index])"
   ]
  },
  {
   "cell_type": "markdown",
   "metadata": {
    "id": "tVCONsP0eBXq",
    "jp-MarkdownHeadingCollapsed": true,
    "tags": []
   },
   "source": [
    "# Recursive Feature Elimination with Cross-Validation"
   ]
  },
  {
   "cell_type": "code",
   "execution_count": null,
   "metadata": {
    "id": "hcOH5tTCeBXq"
   },
   "outputs": [],
   "source": [
    "from sklearn.feature_selection import RFECV"
   ]
  },
  {
   "cell_type": "code",
   "execution_count": null,
   "metadata": {
    "colab": {
     "base_uri": "https://localhost:8080/"
    },
    "id": "fCmMj5FMeBXq",
    "outputId": "4ddd233b-d954-45cd-9476-b08bfe0b1c5c"
   },
   "outputs": [],
   "source": [
    "model = XGBRegressor()\n",
    "\n",
    "# 建立 RFECV 物件\n",
    "# 建立 RFE 物件\n",
    "rfecv = RFECV(estimator = model,\n",
    "      min_features_to_select = 200,\n",
    "      cv = 5,\n",
    "      scoring = 'neg_mean_squared_error',\n",
    "      step = 5)\n",
    "\n",
    "# 執行 RFECV\n",
    "rfecv.fit(preprocessed_xtrain, ytrain)"
   ]
  },
  {
   "cell_type": "code",
   "execution_count": null,
   "metadata": {
    "colab": {
     "base_uri": "https://localhost:8080/"
    },
    "id": "ke-_PIlCeBXq",
    "outputId": "fd0ef740-7207-44fb-f6a1-c9bcd15bcc22"
   },
   "outputs": [],
   "source": [
    "select_index = rfecv.get_feature_names_out()\n",
    "select_index = [eval(i[1:]) for i in select_index]\n",
    "print(select_index)\n",
    "print(np.array(preprocessed_xtrain.columns)[select_index])"
   ]
  },
  {
   "cell_type": "code",
   "execution_count": null,
   "metadata": {
    "colab": {
     "base_uri": "https://localhost:8080/"
    },
    "id": "YpPDO_NTcP2q",
    "outputId": "3cb90089-1c15-468f-c25b-45abd5f8df41"
   },
   "outputs": [],
   "source": [
    "rfecv.cv_results_"
   ]
  }
 ],
 "metadata": {
  "colab": {
   "name": "「練習程式碼.ipynb」的副本",
   "provenance": []
  },
  "gpuClass": "standard",
  "kernelspec": {
   "display_name": "Python 3 (ipykernel)",
   "language": "python",
   "name": "python3"
  },
  "language_info": {
   "codemirror_mode": {
    "name": "ipython",
    "version": 3
   },
   "file_extension": ".py",
   "mimetype": "text/x-python",
   "name": "python",
   "nbconvert_exporter": "python",
   "pygments_lexer": "ipython3",
   "version": "3.9.7"
  },
  "vscode": {
   "interpreter": {
    "hash": "158ae04e2f2f0956d11d7c2a375b41032251c36f0a4035209b3d278a3645b1ef"
   }
  }
 },
 "nbformat": 4,
 "nbformat_minor": 4
}
